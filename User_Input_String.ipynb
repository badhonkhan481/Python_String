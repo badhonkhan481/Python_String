{
 "cells": [
  {
   "cell_type": "markdown",
   "id": "a2dbd769",
   "metadata": {},
   "source": [
    "# Input Function With string"
   ]
  },
  {
   "cell_type": "code",
   "execution_count": 1,
   "id": "873695bf",
   "metadata": {},
   "outputs": [],
   "source": [
    "data= 'Data Science'"
   ]
  },
  {
   "cell_type": "code",
   "execution_count": 2,
   "id": "11f1a05f",
   "metadata": {},
   "outputs": [
    {
     "data": {
      "text/plain": [
       "str"
      ]
     },
     "execution_count": 2,
     "metadata": {},
     "output_type": "execute_result"
    }
   ],
   "source": [
    "type(data) #Which charecter check process"
   ]
  },
  {
   "cell_type": "code",
   "execution_count": 3,
   "id": "a03ce9fc",
   "metadata": {},
   "outputs": [
    {
     "data": {
      "text/plain": [
       "'Data Science'"
      ]
     },
     "execution_count": 3,
     "metadata": {},
     "output_type": "execute_result"
    }
   ],
   "source": [
    "data"
   ]
  },
  {
   "cell_type": "code",
   "execution_count": 4,
   "id": "94aade35",
   "metadata": {},
   "outputs": [
    {
     "name": "stdout",
     "output_type": "stream",
     "text": [
      "Badhon\n"
     ]
    }
   ],
   "source": [
    "data= input()"
   ]
  },
  {
   "cell_type": "code",
   "execution_count": 5,
   "id": "e5fcf9eb",
   "metadata": {},
   "outputs": [
    {
     "data": {
      "text/plain": [
       "'Badhon'"
      ]
     },
     "execution_count": 5,
     "metadata": {},
     "output_type": "execute_result"
    }
   ],
   "source": [
    "data"
   ]
  },
  {
   "cell_type": "code",
   "execution_count": 6,
   "id": "0dced847",
   "metadata": {},
   "outputs": [
    {
     "name": "stdout",
     "output_type": "stream",
     "text": [
      "5\n",
      "10\n"
     ]
    }
   ],
   "source": [
    "x=input()\n",
    "y=input() #there are not working add operation because input option select is string\n"
   ]
  },
  {
   "cell_type": "code",
   "execution_count": 8,
   "id": "7efca557",
   "metadata": {},
   "outputs": [
    {
     "data": {
      "text/plain": [
       "'510'"
      ]
     },
     "execution_count": 8,
     "metadata": {},
     "output_type": "execute_result"
    }
   ],
   "source": [
    "x+y #there are not working add operation because input option select is string"
   ]
  },
  {
   "cell_type": "code",
   "execution_count": 12,
   "id": "1b6d8a03",
   "metadata": {},
   "outputs": [],
   "source": [
    "x=int(x)\n",
    "y=int(y)# Now it convert integer"
   ]
  },
  {
   "cell_type": "code",
   "execution_count": 14,
   "id": "74e408cc",
   "metadata": {},
   "outputs": [
    {
     "data": {
      "text/plain": [
       "25"
      ]
     },
     "execution_count": 14,
     "metadata": {},
     "output_type": "execute_result"
    }
   ],
   "source": [
    "x+y "
   ]
  },
  {
   "cell_type": "code",
   "execution_count": 18,
   "id": "bbb05012",
   "metadata": {},
   "outputs": [
    {
     "data": {
      "text/plain": [
       "int"
      ]
     },
     "execution_count": 18,
     "metadata": {},
     "output_type": "execute_result"
    }
   ],
   "source": [
    "type(x)\n",
    "type(y)"
   ]
  },
  {
   "cell_type": "code",
   "execution_count": 20,
   "id": "56aaa598",
   "metadata": {},
   "outputs": [
    {
     "name": "stdout",
     "output_type": "stream",
     "text": [
      "Enter First input:50\n"
     ]
    }
   ],
   "source": [
    "#Another option\n",
    "x=int(input(\"Enter 1st input:\"))"
   ]
  },
  {
   "cell_type": "code",
   "execution_count": 22,
   "id": "68bbfc53",
   "metadata": {},
   "outputs": [
    {
     "name": "stdout",
     "output_type": "stream",
     "text": [
      "Enter 2nd input:10\n",
      "Result: 60.0\n"
     ]
    }
   ],
   "source": [
    "y =float(input(\"Enter 2nd input:\"))\n",
    "print(\"Result:\",x+y)"
   ]
  },
  {
   "cell_type": "code",
   "execution_count": 23,
   "id": "e962c93a",
   "metadata": {},
   "outputs": [],
   "source": [
    "data= \"Badhon Parvej\""
   ]
  },
  {
   "cell_type": "code",
   "execution_count": 24,
   "id": "8a876eba",
   "metadata": {},
   "outputs": [
    {
     "data": {
      "text/plain": [
       "str"
      ]
     },
     "execution_count": 24,
     "metadata": {},
     "output_type": "execute_result"
    }
   ],
   "source": [
    "# data type\n",
    "type(data)"
   ]
  },
  {
   "cell_type": "code",
   "execution_count": 25,
   "id": "d0eb73cc",
   "metadata": {},
   "outputs": [
    {
     "data": {
      "text/plain": [
       "13"
      ]
     },
     "execution_count": 25,
     "metadata": {},
     "output_type": "execute_result"
    }
   ],
   "source": [
    "#length data\n",
    "len(data)"
   ]
  },
  {
   "cell_type": "code",
   "execution_count": 28,
   "id": "3ae8792a",
   "metadata": {},
   "outputs": [
    {
     "data": {
      "text/plain": [
       "62"
      ]
     },
     "execution_count": 28,
     "metadata": {},
     "output_type": "execute_result"
    }
   ],
   "source": [
    "# memory size\n",
    "import sys\n",
    "sys.getsizeof(data)\n"
   ]
  },
  {
   "cell_type": "code",
   "execution_count": 35,
   "id": "dc877083",
   "metadata": {},
   "outputs": [
    {
     "data": {
      "text/plain": [
       "4"
      ]
     },
     "execution_count": 35,
     "metadata": {},
     "output_type": "execute_result"
    }
   ],
   "source": [
    "#Python String method\n",
    "data='Badhon Parvej'\n",
    "data.find(\"on\")"
   ]
  },
  {
   "cell_type": "code",
   "execution_count": 36,
   "id": "3945dbae",
   "metadata": {},
   "outputs": [
    {
     "data": {
      "text/plain": [
       "7"
      ]
     },
     "execution_count": 36,
     "metadata": {},
     "output_type": "execute_result"
    }
   ],
   "source": [
    "data.find('P') #find value from string"
   ]
  },
  {
   "cell_type": "code",
   "execution_count": 37,
   "id": "712caeb5",
   "metadata": {},
   "outputs": [
    {
     "data": {
      "text/plain": [
       "0"
      ]
     },
     "execution_count": 37,
     "metadata": {},
     "output_type": "execute_result"
    }
   ],
   "source": [
    "data.index('B') #index & find same"
   ]
  },
  {
   "cell_type": "code",
   "execution_count": 38,
   "id": "8f00b0af",
   "metadata": {},
   "outputs": [
    {
     "data": {
      "text/plain": [
       "'badhon parvej'"
      ]
     },
     "execution_count": 38,
     "metadata": {},
     "output_type": "execute_result"
    }
   ],
   "source": [
    "data.lower() #concert all char into lower case\n"
   ]
  },
  {
   "cell_type": "code",
   "execution_count": 39,
   "id": "7ba7ff7a",
   "metadata": {},
   "outputs": [
    {
     "data": {
      "text/plain": [
       "'BADHON PARVEJ'"
      ]
     },
     "execution_count": 39,
     "metadata": {},
     "output_type": "execute_result"
    }
   ],
   "source": [
    "data.upper() #concert all char upper case"
   ]
  },
  {
   "cell_type": "code",
   "execution_count": 40,
   "id": "561cd3ce",
   "metadata": {},
   "outputs": [
    {
     "data": {
      "text/plain": [
       "'badhon parvej'"
      ]
     },
     "execution_count": 40,
     "metadata": {},
     "output_type": "execute_result"
    }
   ],
   "source": [
    "data.casefold() #lower"
   ]
  },
  {
   "cell_type": "code",
   "execution_count": 41,
   "id": "a8b24cae",
   "metadata": {},
   "outputs": [
    {
     "data": {
      "text/plain": [
       "'Badhon parvej'"
      ]
     },
     "execution_count": 41,
     "metadata": {},
     "output_type": "execute_result"
    }
   ],
   "source": [
    "data.capitalize() # first letter upper"
   ]
  },
  {
   "cell_type": "code",
   "execution_count": 42,
   "id": "cd4c69fd",
   "metadata": {},
   "outputs": [
    {
     "data": {
      "text/plain": [
       "'Badhon Parvej'"
      ]
     },
     "execution_count": 42,
     "metadata": {},
     "output_type": "execute_result"
    }
   ],
   "source": [
    "data.title() #concern all every word first letter is capital"
   ]
  },
  {
   "cell_type": "code",
   "execution_count": 43,
   "id": "bade163b",
   "metadata": {},
   "outputs": [
    {
     "data": {
      "text/plain": [
       "False"
      ]
     },
     "execution_count": 43,
     "metadata": {},
     "output_type": "execute_result"
    }
   ],
   "source": [
    "data.islower()"
   ]
  },
  {
   "cell_type": "code",
   "execution_count": 44,
   "id": "f18f4357",
   "metadata": {},
   "outputs": [
    {
     "data": {
      "text/plain": [
       "False"
      ]
     },
     "execution_count": 44,
     "metadata": {},
     "output_type": "execute_result"
    }
   ],
   "source": [
    "data.isupper()"
   ]
  },
  {
   "cell_type": "code",
   "execution_count": 45,
   "id": "2f9db3b3",
   "metadata": {},
   "outputs": [
    {
     "data": {
      "text/plain": [
       "False"
      ]
     },
     "execution_count": 45,
     "metadata": {},
     "output_type": "execute_result"
    }
   ],
   "source": [
    "data.isdigit()"
   ]
  },
  {
   "cell_type": "code",
   "execution_count": 46,
   "id": "b200b4f0",
   "metadata": {},
   "outputs": [
    {
     "data": {
      "text/plain": [
       "b'Badhon Parvej'"
      ]
     },
     "execution_count": 46,
     "metadata": {},
     "output_type": "execute_result"
    }
   ],
   "source": [
    "data.encode()"
   ]
  },
  {
   "cell_type": "code",
   "execution_count": 48,
   "id": "13aa349b",
   "metadata": {},
   "outputs": [
    {
     "data": {
      "text/plain": [
       "bytes"
      ]
     },
     "execution_count": 48,
     "metadata": {},
     "output_type": "execute_result"
    }
   ],
   "source": [
    "type(data.encode())"
   ]
  },
  {
   "cell_type": "code",
   "execution_count": 50,
   "id": "78d15d06",
   "metadata": {},
   "outputs": [
    {
     "data": {
      "text/plain": [
       "str"
      ]
     },
     "execution_count": 50,
     "metadata": {},
     "output_type": "execute_result"
    }
   ],
   "source": [
    "type(data)"
   ]
  },
  {
   "cell_type": "code",
   "execution_count": 51,
   "id": "ef3962fd",
   "metadata": {},
   "outputs": [
    {
     "data": {
      "text/plain": [
       "['Badhon', 'Parvej']"
      ]
     },
     "execution_count": 51,
     "metadata": {},
     "output_type": "execute_result"
    }
   ],
   "source": [
    "data.split()"
   ]
  },
  {
   "cell_type": "code",
   "execution_count": 54,
   "id": "44b97763",
   "metadata": {},
   "outputs": [
    {
     "data": {
      "text/plain": [
       "'Badhon'"
      ]
     },
     "execution_count": 54,
     "metadata": {},
     "output_type": "execute_result"
    }
   ],
   "source": [
    "data.split()[0]"
   ]
  },
  {
   "cell_type": "code",
   "execution_count": 57,
   "id": "ce99e7f1",
   "metadata": {},
   "outputs": [
    {
     "data": {
      "text/plain": [
       "'        Badhon Parvej         '"
      ]
     },
     "execution_count": 57,
     "metadata": {},
     "output_type": "execute_result"
    }
   ],
   "source": [
    "data.center(30)"
   ]
  },
  {
   "cell_type": "code",
   "execution_count": 58,
   "id": "3b1929d4",
   "metadata": {},
   "outputs": [
    {
     "data": {
      "text/plain": [
       "'King Parvej'"
      ]
     },
     "execution_count": 58,
     "metadata": {},
     "output_type": "execute_result"
    }
   ],
   "source": [
    "data.replace('Badhon', 'King')"
   ]
  },
  {
   "cell_type": "code",
   "execution_count": 68,
   "id": "385f4496",
   "metadata": {},
   "outputs": [
    {
     "name": "stdout",
     "output_type": "stream",
     "text": [
      "I have 150 taka.\n"
     ]
    }
   ],
   "source": [
    "# format function\n",
    "x=10;\n",
    "y=15;\n",
    "z=x*y\n",
    "print('I have',z,'taka.')"
   ]
  },
  {
   "cell_type": "code",
   "execution_count": 65,
   "id": "6331b65f",
   "metadata": {},
   "outputs": [
    {
     "name": "stdout",
     "output_type": "stream",
     "text": [
      "I have 150 taka\n"
     ]
    }
   ],
   "source": [
    "print('I have {} taka'.format(z))"
   ]
  },
  {
   "cell_type": "code",
   "execution_count": null,
   "id": "c1dba220",
   "metadata": {},
   "outputs": [],
   "source": []
  }
 ],
 "metadata": {
  "kernelspec": {
   "display_name": "Python 3 (ipykernel)",
   "language": "python",
   "name": "python3"
  },
  "language_info": {
   "codemirror_mode": {
    "name": "ipython",
    "version": 3
   },
   "file_extension": ".py",
   "mimetype": "text/x-python",
   "name": "python",
   "nbconvert_exporter": "python",
   "pygments_lexer": "ipython3",
   "version": "3.9.13"
  }
 },
 "nbformat": 4,
 "nbformat_minor": 5
}
